{
 "cells": [
  {
   "cell_type": "code",
   "execution_count": null,
   "id": "f08bf105",
   "metadata": {
    "scrolled": true
   },
   "outputs": [],
   "source": []
  },
  {
   "cell_type": "code",
   "execution_count": 36,
   "id": "accbefba",
   "metadata": {},
   "outputs": [
    {
     "ename": "TypeError",
     "evalue": "expected string or bytes-like object",
     "output_type": "error",
     "traceback": [
      "\u001b[1;31m---------------------------------------------------------------------------\u001b[0m",
      "\u001b[1;31mTypeError\u001b[0m                                 Traceback (most recent call last)",
      "\u001b[1;32m<ipython-input-36-0c6a2e68ca15>\u001b[0m in \u001b[0;36m<module>\u001b[1;34m\u001b[0m\n\u001b[0;32m     54\u001b[0m         \u001b[0mtweets\u001b[0m \u001b[1;33m=\u001b[0m \u001b[1;33m[\u001b[0m\u001b[1;33m]\u001b[0m\u001b[1;33m\u001b[0m\u001b[1;33m\u001b[0m\u001b[0m\n\u001b[0;32m     55\u001b[0m         \u001b[0mprint\u001b[0m\u001b[1;33m(\u001b[0m\u001b[0mdic1\u001b[0m\u001b[1;33m)\u001b[0m\u001b[1;33m\u001b[0m\u001b[1;33m\u001b[0m\u001b[0m\n\u001b[1;32m---> 56\u001b[1;33m \u001b[0mmove_through_tweets\u001b[0m\u001b[1;33m(\u001b[0m\u001b[1;33m)\u001b[0m\u001b[1;33m\u001b[0m\u001b[1;33m\u001b[0m\u001b[0m\n\u001b[0m\u001b[0;32m     57\u001b[0m \u001b[1;31m#xt1 = \"SPECIAL SECRET HEARTS: A Child's Introduction to Dementia and Pink Curls - A Santa Claus Is Coming\"\u001b[0m\u001b[1;33m\u001b[0m\u001b[1;33m\u001b[0m\u001b[1;33m\u001b[0m\u001b[0m\n\u001b[0;32m     58\u001b[0m \u001b[1;31m#txt2 = \"Rt si te gusta Santa Claus Is Coming To Town #MTVHottest Justin Bieber\"\u001b[0m\u001b[1;33m\u001b[0m\u001b[1;33m\u001b[0m\u001b[1;33m\u001b[0m\u001b[0m\n",
      "\u001b[1;32m<ipython-input-36-0c6a2e68ca15>\u001b[0m in \u001b[0;36mmove_through_tweets\u001b[1;34m()\u001b[0m\n\u001b[0;32m     51\u001b[0m     \u001b[1;32mfor\u001b[0m \u001b[0mline\u001b[0m \u001b[1;32min\u001b[0m \u001b[0mfp\u001b[0m\u001b[1;33m:\u001b[0m\u001b[1;33m\u001b[0m\u001b[1;33m\u001b[0m\u001b[0m\n\u001b[0;32m     52\u001b[0m         \u001b[0mtweets\u001b[0m\u001b[1;33m.\u001b[0m\u001b[0mappend\u001b[0m\u001b[1;33m(\u001b[0m\u001b[0mline\u001b[0m\u001b[1;33m)\u001b[0m\u001b[1;33m\u001b[0m\u001b[1;33m\u001b[0m\u001b[0m\n\u001b[1;32m---> 53\u001b[1;33m         \u001b[0mdic1\u001b[0m \u001b[1;33m=\u001b[0m \u001b[0mmoving_window\u001b[0m\u001b[1;33m(\u001b[0m\u001b[0mtweets\u001b[0m\u001b[1;33m)\u001b[0m\u001b[1;33m\u001b[0m\u001b[1;33m\u001b[0m\u001b[0m\n\u001b[0m\u001b[0;32m     54\u001b[0m         \u001b[0mtweets\u001b[0m \u001b[1;33m=\u001b[0m \u001b[1;33m[\u001b[0m\u001b[1;33m]\u001b[0m\u001b[1;33m\u001b[0m\u001b[1;33m\u001b[0m\u001b[0m\n\u001b[0;32m     55\u001b[0m         \u001b[0mprint\u001b[0m\u001b[1;33m(\u001b[0m\u001b[0mdic1\u001b[0m\u001b[1;33m)\u001b[0m\u001b[1;33m\u001b[0m\u001b[1;33m\u001b[0m\u001b[0m\n",
      "\u001b[1;32m<ipython-input-36-0c6a2e68ca15>\u001b[0m in \u001b[0;36mmoving_window\u001b[1;34m(text)\u001b[0m\n\u001b[0;32m      8\u001b[0m \u001b[1;33m\u001b[0m\u001b[0m\n\u001b[0;32m      9\u001b[0m \u001b[1;32mdef\u001b[0m \u001b[0mmoving_window\u001b[0m\u001b[1;33m(\u001b[0m\u001b[0mtext\u001b[0m\u001b[1;33m)\u001b[0m\u001b[1;33m:\u001b[0m\u001b[1;33m\u001b[0m\u001b[1;33m\u001b[0m\u001b[0m\n\u001b[1;32m---> 10\u001b[1;33m     \u001b[0mtweet\u001b[0m\u001b[1;33m=\u001b[0m \u001b[0mre\u001b[0m\u001b[1;33m.\u001b[0m\u001b[0mfindall\u001b[0m\u001b[1;33m(\u001b[0m\u001b[1;34m\"\\w+'?\\w?[^http:]\"\u001b[0m\u001b[1;33m,\u001b[0m\u001b[0mtext\u001b[0m\u001b[1;33m)\u001b[0m\u001b[1;33m\u001b[0m\u001b[1;33m\u001b[0m\u001b[0m\n\u001b[0m\u001b[0;32m     11\u001b[0m     \u001b[1;31m#rint(tweet)\u001b[0m\u001b[1;33m\u001b[0m\u001b[1;33m\u001b[0m\u001b[1;33m\u001b[0m\u001b[0m\n\u001b[0;32m     12\u001b[0m     \u001b[0ma\u001b[0m \u001b[1;33m=\u001b[0m\u001b[1;36m1\u001b[0m\u001b[1;33m\u001b[0m\u001b[1;33m\u001b[0m\u001b[0m\n",
      "\u001b[1;32m~\\Anaconda3\\lib\\re.py\u001b[0m in \u001b[0;36mfindall\u001b[1;34m(pattern, string, flags)\u001b[0m\n\u001b[0;32m    239\u001b[0m \u001b[1;33m\u001b[0m\u001b[0m\n\u001b[0;32m    240\u001b[0m     Empty matches are included in the result.\"\"\"\n\u001b[1;32m--> 241\u001b[1;33m     \u001b[1;32mreturn\u001b[0m \u001b[0m_compile\u001b[0m\u001b[1;33m(\u001b[0m\u001b[0mpattern\u001b[0m\u001b[1;33m,\u001b[0m \u001b[0mflags\u001b[0m\u001b[1;33m)\u001b[0m\u001b[1;33m.\u001b[0m\u001b[0mfindall\u001b[0m\u001b[1;33m(\u001b[0m\u001b[0mstring\u001b[0m\u001b[1;33m)\u001b[0m\u001b[1;33m\u001b[0m\u001b[1;33m\u001b[0m\u001b[0m\n\u001b[0m\u001b[0;32m    242\u001b[0m \u001b[1;33m\u001b[0m\u001b[0m\n\u001b[0;32m    243\u001b[0m \u001b[1;32mdef\u001b[0m \u001b[0mfinditer\u001b[0m\u001b[1;33m(\u001b[0m\u001b[0mpattern\u001b[0m\u001b[1;33m,\u001b[0m \u001b[0mstring\u001b[0m\u001b[1;33m,\u001b[0m \u001b[0mflags\u001b[0m\u001b[1;33m=\u001b[0m\u001b[1;36m0\u001b[0m\u001b[1;33m)\u001b[0m\u001b[1;33m:\u001b[0m\u001b[1;33m\u001b[0m\u001b[1;33m\u001b[0m\u001b[0m\n",
      "\u001b[1;31mTypeError\u001b[0m: expected string or bytes-like object"
     ]
    }
   ],
   "source": [
    "# open file\n",
    "fp = open(\"Santa.txt\",'r')\n",
    "\n",
    "#import re\n",
    "import re\n",
    "import math\n",
    "\n",
    "\n",
    "def moving_window(text):\n",
    "    tweet= re.findall(\"\\w+'?\\w?[^http:]\",text)\n",
    "    #rint(tweet)\n",
    "    a =1\n",
    "    b=2\n",
    "    tweetdict = {}\n",
    "    for phrase in tweet:\n",
    "        if b < len(tweet):\n",
    "            fullphrase = phrase +\" \"+ tweet[a]+\" \"+ tweet[b]\n",
    "            a +=1\n",
    "            b  +=1\n",
    "            tweetdict[fullphrase]= 1\n",
    "    print()\n",
    "    return tweetdict\n",
    "\n",
    "\n",
    "\n",
    "def matches(dic1,dic2):\n",
    "    counter = 0 \n",
    "    for k in dic1.keys():\n",
    "        if k in dic2.keys():\n",
    "                counter +=1\n",
    "    return counter\n",
    "    \n",
    "        \n",
    "def cosine(dic1, dic2):\n",
    "    \n",
    "    denominator = math.sqrt(len(dic1.keys())+len(dic2.keys()))\n",
    "    similarity=matches(dic1,dic2)/denominator\n",
    "    return similarity\n",
    "\n",
    "\n",
    "def find_dupli(dic1, dic2):\n",
    "    if dic1 != dic2:\n",
    "        similarity = cosine(dic1,dic2)\n",
    "        if similarity >= 0.5:\n",
    "            print (dic1+ \" and \"+ dic2 +\" are similar \" + similarity)\n",
    "    \n",
    "    \n",
    "def move_through_tweets():\n",
    "    fp = open(\"Santa.txt\",'r')\n",
    "    tweets = []\n",
    "    for line in fp:\n",
    "        tweets.append(line)\n",
    "        tweets = []\n",
    "        \n",
    "move_through_tweets()       \n",
    "#xt1 = \"SPECIAL SECRET HEARTS: A Child's Introduction to Dementia and Pink Curls - A Santa Claus Is Coming\"\n",
    "#txt2 = \"Rt si te gusta Santa Claus Is Coming To Town #MTVHottest Justin Bieber\"\n",
    "\n",
    "\n",
    "\n",
    "    \n",
    "\n",
    "    \n",
    "    "
   ]
  },
  {
   "cell_type": "code",
   "execution_count": null,
   "id": "c0d76024",
   "metadata": {},
   "outputs": [],
   "source": [
    "# olddictionary= {}\n",
    "# # assign line\n",
    "# line = Santa.readline()\n",
    "\n",
    "# #move through file\n",
    "# while line != '':\n",
    "#     \n",
    "    \n",
    "#     print(line)\n",
    "#     print(tweet)\n",
    "#     print()\n",
    "#     print(moving_window(tweet))\n",
    "#     for dic in moving_window(tweet):\n",
    "#         similarity = cosine(moving_window(tweet),olddictionary)\n",
    "#         if similarity >.5:\n",
    "#             print(dic)\n",
    "#         else:\n",
    "#             continue\n",
    "#     olddictionary = moving_window(tweet)\n",
    "    \n",
    "#     print(similarity"
   ]
  },
  {
   "cell_type": "code",
   "execution_count": 15,
   "id": "d8d7ab74",
   "metadata": {},
   "outputs": [
    {
     "name": "stdout",
     "output_type": "stream",
     "text": [
      "['SPECIAL', 'SECRET', 'HEARTS:', 'A', \"Child's\", 'Introduction', 'to', 'Dementia', 'and', 'Pink', 'Curls', '-', 'A', 'Santa', '...', '-', 'http://t.co/UWCdc8FA9a', 'http://t.co/meexKLGTKl']\n",
      "['\"Santa', 'Claus', 'Is', 'Coming', 'To', 'Town', '#MTVHottest', 'Justin', 'Bieber\"']\n",
      "['RT', '@BuyBookstore:', 'SPECIAL', 'SECRET', 'HEARTS:', 'A', \"Child's\", 'Introduction', 'to', 'Dementia', 'and', 'Pink', 'Curls', '-', 'A', 'Santa', '...', '-', 'http://t.co/UWCdc8FA9a', 'http://t.Â…']\n",
      "['\"RT', '@DrewFtDevonne_:', 'Rt', 'si', 'te', 'gusta', 'Santa', 'Claus', 'Is', 'Coming', 'To', 'Town', '#MTVHottest', 'Justin', 'Bieber\"']\n",
      "['\"Rt', 'si', 'te', 'gusta', 'Santa', 'Claus', 'Is', 'Coming', 'To', 'Town', '#MTVHottest', 'Justin', 'Bieber\"']\n"
     ]
    }
   ],
   "source": [
    "def find_dupli():\n",
    "    fp = open(\"Santa.txt\", 'r')\n",
    "    mylist = []\n",
    "    for line in fp:\n",
    "        tweeta = moving_window(line)\n",
    "        mylist = line.split()\n",
    "        print(mylist)\n",
    "        for line2 in mylist:\n",
    "            tweetb = moving_window(line)\n",
    "            similarity = cosine(tweeta,tweetb)\n",
    "            if similarity>0.5:\n",
    "                    print(similarity)"
   ]
  },
  {
   "cell_type": "code",
   "execution_count": null,
   "id": "130bce38",
   "metadata": {},
   "outputs": [],
   "source": [
    "\n"
   ]
  },
  {
   "cell_type": "code",
   "execution_count": null,
   "id": "1932c17b",
   "metadata": {},
   "outputs": [],
   "source": []
  }
 ],
 "metadata": {
  "kernelspec": {
   "display_name": "Python 3",
   "language": "python",
   "name": "python3"
  },
  "language_info": {
   "codemirror_mode": {
    "name": "ipython",
    "version": 3
   },
   "file_extension": ".py",
   "mimetype": "text/x-python",
   "name": "python",
   "nbconvert_exporter": "python",
   "pygments_lexer": "ipython3",
   "version": "3.8.8"
  }
 },
 "nbformat": 4,
 "nbformat_minor": 5
}
