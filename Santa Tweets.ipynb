{
 "cells": [
  {
   "cell_type": "code",
   "execution_count": null,
   "id": "f08bf105",
   "metadata": {
    "scrolled": true
   },
   "outputs": [],
   "source": []
  },
  {
   "cell_type": "code",
   "execution_count": 43,
   "id": "accbefba",
   "metadata": {},
   "outputs": [
    {
     "name": "stdout",
     "output_type": "stream",
     "text": [
      "\n",
      "SPECIAL SECRET HEARTS: A Child's Introduction to Dementia and Pink Curls - A Santa ... - http://t.co/UWCdc8FA9a http://t.co/meexKLGTKl\n",
      "\n",
      "\"Santa Claus Is Coming To Town #MTVHottest Justin Bieber\"\n",
      "\n",
      "\n",
      "SPECIAL SECRET HEARTS: A Child's Introduction to Dementia and Pink Curls - A Santa ... - http://t.co/UWCdc8FA9a http://t.co/meexKLGTKl\n",
      "\n",
      "RT @BuyBookstore: SPECIAL SECRET HEARTS: A Child's Introduction to Dementia and Pink Curls - A Santa ... - http://t.co/UWCdc8FA9a http://t.Â…\n",
      "\n",
      "\n",
      "2.53546276418555\n",
      "SPECIAL SECRET HEARTS: A Child's Introduction to Dementia and Pink Curls - A Santa ... - http://t.co/UWCdc8FA9a http://t.co/meexKLGTKl\n",
      "\n",
      "\"RT @DrewFtDevonne_: Rt si te gusta Santa Claus Is Coming To Town #MTVHottest Justin Bieber\"\n",
      "\n",
      "\n",
      "SPECIAL SECRET HEARTS: A Child's Introduction to Dementia and Pink Curls - A Santa ... - http://t.co/UWCdc8FA9a http://t.co/meexKLGTKl\n",
      "\n",
      "\"Rt si te gusta Santa Claus Is Coming To Town #MTVHottest Justin Bieber\"\n",
      "\n",
      "\n"
     ]
    }
   ],
   "source": [
    "# open file\n",
    "fp = open(\"Santa.txt\",'r')\n",
    "\n",
    "#import re\n",
    "import re\n",
    "import math\n",
    "\n",
    "\n",
    "def moving_window(text):\n",
    "    tweet= re.findall(\"\\w+'?\\w?[^http:]\",text)\n",
    "    #rint(tweet)\n",
    "    \n",
    "    a =1\n",
    "    b=2\n",
    "    tweetdict = {}\n",
    "    for phrase in tweet:\n",
    "        if b < len(tweet):\n",
    "            fullphrase = phrase +\" \"+ tweet[a]+\" \"+ tweet[b]\n",
    "            a +=1\n",
    "            b  +=1\n",
    "            tweetdict[fullphrase]= 1\n",
    "    print()\n",
    "    return tweetdict\n",
    "\n",
    "\n",
    "\n",
    "def matches(dic1,dic2):\n",
    "    counter = 0 \n",
    "    for k in dic1.keys():\n",
    "        if k in dic2.keys():\n",
    "                counter +=1\n",
    "    return counter\n",
    "    \n",
    "        \n",
    "def cosine(dic1, dic2):\n",
    "    \n",
    "    denominator = math.sqrt(len(dic1.keys())+len(dic2.keys()))\n",
    "    similarity=matches(dic1,dic2)/denominator\n",
    "    return similarity\n",
    "\n",
    "\n",
    "def find_dupli():\n",
    "    fp = open(\"Santa.txt\", 'r')\n",
    "    for line in fp:\n",
    "        tweeta = moving_window(line)\n",
    "        for line2 in fp:\n",
    "            print(line)\n",
    "            if line != line2:\n",
    "                print(line2)\n",
    "                tweetb = moving_window(line2)\n",
    "                similarity = cosine(tweeta,tweetb)\n",
    "                if similarity>0.5:\n",
    "                    print(similarity)\n",
    "find_dupli()\n",
    "        \n",
    "#txt1 = \"SPECIAL SECRET HEARTS: A Child's Introduction to Dementia and Pink Curls - A Santa Claus Is Coming\"\n",
    "#txt2 = \"Rt si te gusta Santa Claus Is Coming To Town #MTVHottest Justin Bieber\"\n",
    "\n",
    "\n",
    "\n",
    "    \n",
    "\n",
    "    \n",
    "    "
   ]
  },
  {
   "cell_type": "code",
   "execution_count": null,
   "id": "c0d76024",
   "metadata": {},
   "outputs": [],
   "source": [
    "# olddictionary= {}\n",
    "# # assign line\n",
    "# line = Santa.readline()\n",
    "\n",
    "# #move through file\n",
    "# while line != '':\n",
    "#     \n",
    "    \n",
    "#     print(line)\n",
    "#     print(tweet)\n",
    "#     print()\n",
    "#     print(moving_window(tweet))\n",
    "#     for dic in moving_window(tweet):\n",
    "#         similarity = cosine(moving_window(tweet),olddictionary)\n",
    "#         if similarity >.5:\n",
    "#             print(dic)\n",
    "#         else:\n",
    "#             continue\n",
    "#     olddictionary = moving_window(tweet)\n",
    "    \n",
    "#     print(similarity"
   ]
  },
  {
   "cell_type": "code",
   "execution_count": 24,
   "id": "d8d7ab74",
   "metadata": {},
   "outputs": [
    {
     "data": {
      "text/plain": [
       "str"
      ]
     },
     "execution_count": 24,
     "metadata": {},
     "output_type": "execute_result"
    }
   ],
   "source": []
  },
  {
   "cell_type": "code",
   "execution_count": 25,
   "id": "130bce38",
   "metadata": {},
   "outputs": [
    {
     "ename": "NameError",
     "evalue": "name 'line' is not defined",
     "output_type": "error",
     "traceback": [
      "\u001b[1;31m---------------------------------------------------------------------------\u001b[0m",
      "\u001b[1;31mNameError\u001b[0m                                 Traceback (most recent call last)",
      "\u001b[1;32m<ipython-input-25-927ef13d4b08>\u001b[0m in \u001b[0;36m<module>\u001b[1;34m\u001b[0m\n\u001b[1;32m----> 1\u001b[1;33m \u001b[0mtype\u001b[0m\u001b[1;33m(\u001b[0m\u001b[0mline\u001b[0m\u001b[1;33m)\u001b[0m\u001b[1;33m\u001b[0m\u001b[1;33m\u001b[0m\u001b[0m\n\u001b[0m",
      "\u001b[1;31mNameError\u001b[0m: name 'line' is not defined"
     ]
    }
   ],
   "source": []
  },
  {
   "cell_type": "code",
   "execution_count": null,
   "id": "1932c17b",
   "metadata": {},
   "outputs": [],
   "source": []
  }
 ],
 "metadata": {
  "kernelspec": {
   "display_name": "Python 3",
   "language": "python",
   "name": "python3"
  },
  "language_info": {
   "codemirror_mode": {
    "name": "ipython",
    "version": 3
   },
   "file_extension": ".py",
   "mimetype": "text/x-python",
   "name": "python",
   "nbconvert_exporter": "python",
   "pygments_lexer": "ipython3",
   "version": "3.8.8"
  }
 },
 "nbformat": 4,
 "nbformat_minor": 5
}
