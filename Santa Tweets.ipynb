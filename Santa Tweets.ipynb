{
 "cells": [
  {
   "cell_type": "code",
   "execution_count": null,
   "metadata": {
    "scrolled": true
   },
   "outputs": [],
   "source": []
  },
  {
   "cell_type": "code",
   "execution_count": 1,
   "metadata": {},
   "outputs": [],
   "source": [
    "# open file\n",
    "fp = open(\"Santa.txt\",'r')\n",
    "\n",
    "#import re\n",
    "import re\n",
    "import math\n",
    "\n",
    "\n",
    "def moving_window(text):\n",
    "    tweet= re.findall(\"\\w+'?\\w?[^http:]\",text)\n",
    "    #rint(tweet)\n",
    "    a =1\n",
    "    b=2\n",
    "    tweetdict = {}\n",
    "    for phrase in tweet:\n",
    "        if b < len(tweet):\n",
    "            fullphrase = phrase +\" \"+ tweet[a]+\" \"+ tweet[b]\n",
    "            a +=1\n",
    "            b  +=1\n",
    "            tweetdict[fullphrase]= 1\n",
    "    print()\n",
    "    return tweetdict\n",
    "\n",
    "\n",
    "\n",
    "def matches(dic1,dic2):\n",
    "    counter = 0 \n",
    "    for k in dic1.keys():\n",
    "        if k in dic2.keys():\n",
    "                counter +=1\n",
    "    return counter\n",
    "    \n",
    "        \n",
    "def cosine(dic1, dic2):\n",
    "    \n",
    "    denominator = math.sqrt(len(dic1.keys())+len(dic2.keys()))\n",
    "    similarity=matches(dic1,dic2)/denominator\n",
    "    return similarity\n",
    "\n",
    "\n",
    "def find_dupli(dic1, dic2):\n",
    "    if dic1 != dic2:\n",
    "        similarity = cosine(dic1,dic2)\n",
    "        if similarity >= 0.5:\n",
    "            print (dic1+ \" and \"+ dic2 +\" are similar \" + similarity)\n",
    "    \n",
    "    \n",
    "def move_through_tweets():\n",
    "    fp = open(\"Santa.txt\",'r')\n",
    "    tweets = []\n",
    "    for line in fp:\n",
    "        tweets.append(line)\n",
    "        \n",
    "move_through_tweets()       \n",
    "#xt1 = \"SPECIAL SECRET HEARTS: A Child's Introduction to Dementia and Pink Curls - A Santa Claus Is Coming\"\n",
    "#txt2 = \"Rt si te gusta Santa Claus Is Coming To Town #MTVHottest Justin Bieber\"\n",
    "\n",
    "\n",
    "\n",
    "    \n",
    "\n",
    "    \n",
    "    "
   ]
  },
  {
   "cell_type": "code",
   "execution_count": null,
   "metadata": {},
   "outputs": [],
   "source": [
    "# olddictionary= {}\n",
    "# # assign line\n",
    "# line = Santa.readline()\n",
    "\n",
    "# #move through file\n",
    "# while line != '':\n",
    "#     \n",
    "    \n",
    "#     print(line)\n",
    "#     print(tweet)\n",
    "#     print()\n",
    "#     print(moving_window(tweet))\n",
    "#     for dic in moving_window(tweet):\n",
    "#         similarity = cosine(moving_window(tweet),olddictionary)\n",
    "#         if similarity >.5:\n",
    "#             print(dic)\n",
    "#         else:\n",
    "#             continue\n",
    "#     olddictionary = moving_window(tweet)\n",
    "    \n",
    "#     print(similarity"
   ]
  },
  {
   "cell_type": "code",
   "execution_count": 15,
   "metadata": {},
   "outputs": [
    {
     "name": "stdout",
     "output_type": "stream",
     "text": [
      "['SPECIAL', 'SECRET', 'HEARTS:', 'A', \"Child's\", 'Introduction', 'to', 'Dementia', 'and', 'Pink', 'Curls', '-', 'A', 'Santa', '...', '-', 'http://t.co/UWCdc8FA9a', 'http://t.co/meexKLGTKl']\n",
      "['\"Santa', 'Claus', 'Is', 'Coming', 'To', 'Town', '#MTVHottest', 'Justin', 'Bieber\"']\n",
      "['RT', '@BuyBookstore:', 'SPECIAL', 'SECRET', 'HEARTS:', 'A', \"Child's\", 'Introduction', 'to', 'Dementia', 'and', 'Pink', 'Curls', '-', 'A', 'Santa', '...', '-', 'http://t.co/UWCdc8FA9a', 'http://t.Â…']\n",
      "['\"RT', '@DrewFtDevonne_:', 'Rt', 'si', 'te', 'gusta', 'Santa', 'Claus', 'Is', 'Coming', 'To', 'Town', '#MTVHottest', 'Justin', 'Bieber\"']\n",
      "['\"Rt', 'si', 'te', 'gusta', 'Santa', 'Claus', 'Is', 'Coming', 'To', 'Town', '#MTVHottest', 'Justin', 'Bieber\"']\n"
     ]
    }
   ],
   "source": [
    "def find_dupli():\n",
    "    fp = open(\"Santa.txt\", 'r')\n",
    "    mylist = []\n",
    "    for line in fp:\n",
    "        tweeta = moving_window(line)\n",
    "        mylist = line.split()\n",
    "        print(mylist)\n",
    "        for line2 in mylist:\n",
    "            tweetb = moving_window(line)\n",
    "            similarity = cosine(tweeta,tweetb)\n",
    "            if similarity>0.5:\n",
    "                    print(similarity)"
   ]
  },
  {
   "cell_type": "code",
   "execution_count": null,
   "metadata": {},
   "outputs": [],
   "source": [
    "\n"
   ]
  },
  {
   "cell_type": "code",
   "execution_count": null,
   "metadata": {},
   "outputs": [],
   "source": []
  }
 ],
 "metadata": {
  "kernelspec": {
   "display_name": "Python 3",
   "language": "python",
   "name": "python3"
  },
  "language_info": {
   "codemirror_mode": {
    "name": "ipython",
    "version": 3
   },
   "file_extension": ".py",
   "mimetype": "text/x-python",
   "name": "python",
   "nbconvert_exporter": "python",
   "pygments_lexer": "ipython3",
   "version": "3.7.4"
  }
 },
 "nbformat": 4,
 "nbformat_minor": 5
}
