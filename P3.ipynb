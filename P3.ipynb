{
 "cells": [
  {
   "cell_type": "code",
   "execution_count": 2,
   "metadata": {},
   "outputs": [],
   "source": [
    "import re"
   ]
  },
  {
   "cell_type": "code",
   "execution_count": 5,
   "metadata": {},
   "outputs": [
    {
     "name": "stdout",
     "output_type": "stream",
     "text": [
      "[('LAFAYETTE', 1373, 2672), ('GLADES', 2190, 3110), ('LIBERTY', 720, 3372), ('UNION', 2752, 3579), ('GILCHRIST', 5789, 3652), ('FRANKLIN', 2234, 4319), ('HOLMES', 5282, 4434), ('GULF', 4234, 4521), ('HARDEE', 4859, 4702), ('HAMILTON', 2154, 4796), ('DIXIE', 3314, 4839), ('CALHOUN', 2201, 5324), ('WASHINGTON', 7101, 5687), ('JEFFERSON', 2636, 5802), ('BAKER', 6963, 5813), ('BRADFORD', 6878, 6533), ('TAYLOR', 3950, 6915), ('MADISON', 2992, 7158), ('DESOTO', 4870, 7181), ('OKEECHOBEE', 7755, 7756), ('HENDRY', 5862, 7999), ('WAKULLA', 7374, 8889), ('LEVY', 11665, 9509), ('WALTON', 25609, 10013), ('SUWANNEE', 10745, 11126), ('NASSAU', 32958, 14013), ('COLUMBIA', 15790, 14797), ('JACKSON', 9626, 15706), ('MONROE', 20602, 17614), ('HIGHLANDS', 27100, 19997), ('PUTNAM', 17067, 20606), ('GADSDEN', 4372, 22161), ('SUMTER', 47158, 22977), ('FLAGLER', 30047, 24734), ('OKALOOSA', 75154, 25172), ('SANTA ROSA', 73627, 26114), ('MARTIN', 53800, 27358), ('INDIAN RIVER', 47794, 28204), ('CITRUS', 46373, 30440), ('BAY', 57456, 30733), ('CLAY', 76584, 31285), ('CHARLOTTE', 54421, 35602), ('ST. JOHNS', 88385, 39531), ('HERNANDO', 51254, 42499), ('COLLIER', 100167, 45511), ('LAKE', 93604, 67237), ('MANATEE', 96063, 67926), ('ESCAMBIA', 90265, 70180), ('OSCEOLA', 44594, 75657), ('ST. LUCIE', 59626, 76163), ('MARION', 97306, 76268), ('ALACHUA', 47329, 77996), ('SARASOTA', 125872, 89711), ('SEMINOLE', 107833, 91686), ('LEON', 54554, 103140), ('PASCO', 125305, 104324), ('LEE', 180718, 114633), ('VOLUSIA', 121402, 124136), ('BREVARD', 167129, 127435), ('POLK', 140619, 143799), ('PINELLAS', 223077, 221968), ('DUVAL', 210195, 229501), ('ORANGE', 206174, 303458), ('HILLSBOROUGH', 257436, 314265), ('PALM BEACH', 245452, 367236), ('MIAMI-DADE', 362161, 539367), ('BROWARD', 249762, 566185), ('Total', 4377713, 4637026)]\n"
     ]
    }
   ],
   "source": [
    "# opens voters html, matches and strips to be just text and returns a list of all text\n",
    "def read_file():\n",
    "    fp = open(\"FloridaVoters.html\", \"r\")\n",
    "    \n",
    "    text = []\n",
    "    for line in fp:\n",
    "        if re.match(\"<td>\\w+[,-\\.]?[\\d,]*[\\s]?\\w+</td>\", line) is not None:\n",
    "            line = line.strip(\"<td>\").strip(\"\\n\").rstrip(\"</td>\")\n",
    "            line = line.replace(\",\", \"\")\n",
    "            text.append(line)\n",
    "    fp.close()\n",
    "    return text\n",
    "\n",
    "# takes in list of all text and extracts county, and dem and republican voters\n",
    "# turns voters into integers \n",
    "def clean_text(text):\n",
    "    voters = []\n",
    "    for i in range(0, len(text), 6):\n",
    "        voters.append((text[i], int(text[i+1]), int(text[i+2])))\n",
    "    return voters\n",
    "\n",
    "# creates key so that voters can be sorted by democrat\n",
    "def dem_key(voters):\n",
    "    return voters[2]\n",
    "        \n",
    "\n",
    "text = read_file()\n",
    "voters = clean_text(text)\n",
    "# sorts by democrats \n",
    "voters = sorted(voters, key = dem_key)\n",
    "print(voters)"
   ]
  },
  {
   "cell_type": "markdown",
   "metadata": {},
   "source": [
    "hello #hi"
   ]
  }
 ],
 "metadata": {
  "kernelspec": {
   "display_name": "Python 3",
   "language": "python",
   "name": "python3"
  },
  "language_info": {
   "codemirror_mode": {
    "name": "ipython",
    "version": 3
   },
   "file_extension": ".py",
   "mimetype": "text/x-python",
   "name": "python",
   "nbconvert_exporter": "python",
   "pygments_lexer": "ipython3",
   "version": "3.7.4"
  }
 },
 "nbformat": 4,
 "nbformat_minor": 4
}
